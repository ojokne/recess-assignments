{
 "cells": [
  {
   "cell_type": "code",
   "execution_count": null,
   "metadata": {},
   "outputs": [],
   "source": [
    "# 19th July\n",
    "# Livingstone\n",
    "\"\"\"\n",
    "Linear Regression\n",
    "Polynomial Regression\n",
    "Multiple Linear Regression\n",
    "\"\"\"\n",
    "# Jeff\n",
    "\"\"\"\n",
    "Train/Test\n",
    "Decision Trees\n",
    "Confusion Matrix\n",
    "Hierarchical Clustering\n",
    "Categorical Data\n",
    "K-Means Clustering\n",
    "Cross Validation\n",
    "AUC-ROC Curve\n",
    "K-Nearest Neighbors\n",
    "\"\"\""
   ]
  },
  {
   "cell_type": "code",
   "execution_count": null,
   "metadata": {},
   "outputs": [],
   "source": [
    "# Machine Learning\n",
    "# Train and Test\n",
    "\n",
    "\"\"\"\n",
    "Training Data\n",
    "Independent Variables and Dependent Variables\n",
    "Divide data, x and y\n",
    "train_x, text_x, train_y, test_y\n",
    "x_train, x_test, y_train, y_test\n",
    "\n",
    "Splitting Data\n",
    "\n",
    "larger portion testing for training and testing\n",
    "80% training and 20% testing\n",
    "70% training and 30% testing\n",
    "\n",
    "Evaluate performance Accuracy 100%|99.87\n",
    "\n",
    "Model testing\n",
    "Be speific with training algorithm (Linear regression, decision tree, svm, knn, etc)\n",
    "\n",
    "Model Evaluation\n",
    "Evaluation metrics: Accuracy, Precision, Recall, F1 Score, ROC Curve, AUC\n",
    "\n",
    "Performance Assessments\n",
    "- Give insgihts aboout performance of model\n",
    "\"\"\""
   ]
  },
  {
   "cell_type": "code",
   "execution_count": null,
   "metadata": {},
   "outputs": [],
   "source": [
    "# import ML libraries\n",
    "from sklearn.model_selection import train_test_split # split data\n",
    "from sklearn.linear_model import LinearRegression # linear regression \n",
    "from sklearn.metrics import accuracy_score # accuracy\n",
    "\n",
    "\n",
    "# Dataset Let's ssay you have x to be independent variable(input features) and y to be dependent variable\n",
    "# Your target variable (target varibale)\n",
    "# when dealing with logisctic regression, it is important to store the indpendent variables in x\n",
    "# store dependent variables (target data) in y\n",
    "\n",
    "# Split Data into Training and Testing sets\n",
    "x_train,x_test,y_train,y_test = train_test_split(x,y,test_size=0.2,random_state=0)\n",
    "\n",
    "# Model training\n",
    "model = LinearRegression()\n",
    "model.fit(x_train,y_train)\n",
    "\n",
    "# Model Evaluation\n"
   ]
  },
  {
   "cell_type": "code",
   "execution_count": 8,
   "metadata": {},
   "outputs": [
    {
     "name": "stdout",
     "output_type": "stream",
     "text": [
      "[0]\n"
     ]
    }
   ],
   "source": [
    "# Create data using array\n",
    "import numpy as np\n",
    "from sklearn import linear_model\n",
    "\n",
    "x = np.array([1,2,3,4]).reshape(-1,1)\n",
    "y = np.array([0,0,1,1]) # 0 is No , 1 is Yes\n",
    "\n",
    "# model training\n",
    "logr = linear_model.LogisticRegression()\n",
    "logr.fit(x,y)\n",
    "\n",
    "# model evaluation\n",
    "y_pred = logr.predict(np.array([1]).reshape(-1,1))\n",
    "# accuracy = accuracy_score(np.array(y_pred))\n",
    "\n",
    "print(y_pred)"
   ]
  },
  {
   "cell_type": "code",
   "execution_count": null,
   "metadata": {},
   "outputs": [],
   "source": [
    "# Decision Tree\n",
    "# Decision Tree is a supervised learning algorithm\n",
    "# Uses classification and regression\n",
    "\n",
    "\"\"\"\n",
    "PROS\n",
    "- Easy to understand and interpret\n",
    "- can handle both regression and classification problems\n",
    "- Captures non-linear relationships between parameters\n",
    "- can handle missing values or outliers\n",
    "\n",
    "CONS\n",
    "- Prone to overfitting\n",
    "- Sensitivity to small variations in data\n",
    "- May not perform well with noisy data\n",
    "\"\"\""
   ]
  },
  {
   "cell_type": "code",
   "execution_count": null,
   "metadata": {},
   "outputs": [],
   "source": [
    "# Decision Tree demonstration\n",
    "from sklearn.tree import DecisionTreeClassifier\n",
    "\n",
    "model = DecisionTreeClassifier()\n",
    "model.fit(x_train,y_train)\n",
    "\n",
    "# model evaluation\n",
    "y_pred = model.predict(x_test)\n",
    "accuracy = accuracy_score(y_test,y_pred)\n",
    "\n",
    "print(accuracy)\n",
    "\n",
    "# Worked Example\n",
    "\n",
    "# learn how to set up and Django and Flask on your environment\n",
    "\n",
    "# Final Project\n",
    "\"\"\"\n",
    "1. Data Science\n",
    "2. Machine Learning\n",
    "3. Web Development\n",
    "\n",
    "The final project will be out on Friday 21st July 2021\n",
    "\"\"\""
   ]
  }
 ],
 "metadata": {
  "kernelspec": {
   "display_name": "Python 3",
   "language": "python",
   "name": "python3"
  },
  "language_info": {
   "codemirror_mode": {
    "name": "ipython",
    "version": 3
   },
   "file_extension": ".py",
   "mimetype": "text/x-python",
   "name": "python",
   "nbconvert_exporter": "python",
   "pygments_lexer": "ipython3",
   "version": "3.11.4"
  },
  "orig_nbformat": 4
 },
 "nbformat": 4,
 "nbformat_minor": 2
}
